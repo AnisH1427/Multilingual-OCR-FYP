{
  "nbformat": 4,
  "nbformat_minor": 0,
  "metadata": {
    "colab": {
      "provenance": [],
      "gpuType": "T4",
      "mount_file_id": "120X6XtcBcUZ8k0dVZgR5PZL0JUgwTmF-",
      "authorship_tag": "ABX9TyM25ZjqXsq1HWi/tzYP8oTD",
      "include_colab_link": true
    },
    "kernelspec": {
      "name": "python3",
      "display_name": "Python 3"
    },
    "language_info": {
      "name": "python"
    },
    "accelerator": "GPU"
  },
  "cells": [
    {
      "cell_type": "markdown",
      "metadata": {
        "id": "view-in-github",
        "colab_type": "text"
      },
      "source": [
        "<a href=\"https://colab.research.google.com/github/AnisH1427/Multilingual-OCR-FYP/blob/main/Model_development.ipynb\" target=\"_parent\"><img src=\"https://colab.research.google.com/assets/colab-badge.svg\" alt=\"Open In Colab\"/></a>"
      ]
    },
    {
      "cell_type": "markdown",
      "source": [
        "\n",
        "\n",
        "1.   Import Necessary library\n",
        "\n",
        "\n"
      ],
      "metadata": {
        "id": "3ZpErdAdBLeO"
      }
    },
    {
      "cell_type": "code",
      "execution_count": null,
      "metadata": {
        "id": "asR2WR_ZA7a3"
      },
      "outputs": [],
      "source": [
        "import tensorflow as tf\n",
        "from tensorflow.keras.datasets import mnist\n",
        "from tensorflow.keras.preprocessing.image import ImageDataGenerator\n",
        "from tensorflow.keras.utils import to_categorical\n",
        "import numpy as np\n",
        "import warnings\n",
        "import pandas as pd\n",
        "warnings.filterwarnings('ignore')"
      ]
    },
    {
      "cell_type": "code",
      "source": [
        "device_name = tf.test.gpu_device_name()\n",
        "if device_name != '/device:GPU:0':\n",
        "  raise SystemError('GPU device not found')\n",
        "print('Found GPU at: {}'.format(device_name))"
      ],
      "metadata": {
        "colab": {
          "base_uri": "https://localhost:8080/"
        },
        "id": "EdTseDKmBJvx",
        "outputId": "da4a3d60-7a0e-4e4e-817b-a29d68ca8d94"
      },
      "execution_count": null,
      "outputs": [
        {
          "output_type": "stream",
          "name": "stdout",
          "text": [
            "Found GPU at: /device:GPU:0\n"
          ]
        }
      ]
    },
    {
      "cell_type": "code",
      "source": [
        "(X_train, y_train), (X_test, y_test) = mnist.load_data()"
      ],
      "metadata": {
        "id": "EVUPcmcqBEhJ",
        "colab": {
          "base_uri": "https://localhost:8080/"
        },
        "outputId": "1334de0a-aef2-4f94-bbbe-902cd1fdb4b0"
      },
      "execution_count": null,
      "outputs": [
        {
          "output_type": "stream",
          "name": "stdout",
          "text": [
            "Downloading data from https://storage.googleapis.com/tensorflow/tf-keras-datasets/mnist.npz\n",
            "11490434/11490434 [==============================] - 2s 0us/step\n"
          ]
        }
      ]
    },
    {
      "cell_type": "code",
      "source": [
        "X_train.shape, X_test.shape"
      ],
      "metadata": {
        "colab": {
          "base_uri": "https://localhost:8080/"
        },
        "id": "o6S5rRBMK2rw",
        "outputId": "2e205d2b-bf6f-4c6f-d52c-7c9adb73a5b1"
      },
      "execution_count": null,
      "outputs": [
        {
          "output_type": "execute_result",
          "data": {
            "text/plain": [
              "((60000, 28, 28), (10000, 28, 28))"
            ]
          },
          "metadata": {},
          "execution_count": 6
        }
      ]
    },
    {
      "cell_type": "code",
      "source": [
        "X_train = X_train.reshape((X_train.shape[0],28,28))\n",
        "X_test = X_test.reshape((X_test.shape[0],28,28))\n",
        "\n",
        "X_train = X_train.astype('float32')\n",
        "X_test = X_test.astype('float32')\n",
        "\n",
        "X_train = np.stack((X_train,)*3,axis=-1)\n",
        "X_test = np.stack((X_test,)*3,axis=-1)\n",
        "\n",
        "y_train = to_categorical(y_train)\n",
        "y_test =  to_categorical(y_test)"
      ],
      "metadata": {
        "id": "yn0P9gHvK_w6"
      },
      "execution_count": null,
      "outputs": []
    },
    {
      "cell_type": "code",
      "source": [
        "X_train.shape, X_test.shape"
      ],
      "metadata": {
        "colab": {
          "base_uri": "https://localhost:8080/"
        },
        "id": "NNpliUWnL8US",
        "outputId": "fa4b2c3d-1ecd-4237-ca8a-696de01704a5"
      },
      "execution_count": null,
      "outputs": [
        {
          "output_type": "execute_result",
          "data": {
            "text/plain": [
              "((60000, 28, 28, 3), (10000, 28, 28, 3))"
            ]
          },
          "metadata": {},
          "execution_count": 8
        }
      ]
    },
    {
      "cell_type": "code",
      "source": [
        "train_generator = ImageDataGenerator(\n",
        "    rescale = 1./255,\n",
        "    rotation_range = 40,\n",
        "    shear_range = 0.2,\n",
        "    zoom_range = 0.2,\n",
        "    fill_mode = 'nearest'\n",
        ")\n",
        "val_generator = ImageDataGenerator(rescale = 1./255)\n",
        "\n",
        "train_iterator = train_generator.flow(X_train, y_train, batch_size=512, shuffle=True)\n",
        "\n",
        "val_iterator = val_generator.flow(X_test, y_test, batch_size=512, shuffle=False)"
      ],
      "metadata": {
        "id": "mA-NGFPcLfvC"
      },
      "execution_count": null,
      "outputs": []
    },
    {
      "cell_type": "code",
      "source": [
        "from tensorflow.keras.applications.resnet50 import ResNet50\n",
        "from tensorflow.keras.models import Sequential\n",
        "from tensorflow.keras.layers import Dense"
      ],
      "metadata": {
        "id": "Rvr39EtdNhYE"
      },
      "execution_count": null,
      "outputs": []
    },
    {
      "cell_type": "code",
      "source": [
        "model = Sequential()\n",
        "\n",
        "model.add(ResNet50(include_top = False, pooling='avg', weights='imagenet'))\n",
        "\n",
        "#adding fully connected layer with output\n",
        "model.add(Dense(512, activation = 'relu'))\n",
        "model.add(Dense(10, activation = 'softmax'))\n",
        "\n",
        "#set resnet layers not trainable as it is already trained\n",
        "model.layers[0].trainable = False\n",
        "model.summary()"
      ],
      "metadata": {
        "colab": {
          "base_uri": "https://localhost:8080/"
        },
        "id": "FhXkzQ_wZpqJ",
        "outputId": "65961b90-3155-4199-e0bf-37adb47e33c4"
      },
      "execution_count": null,
      "outputs": [
        {
          "output_type": "stream",
          "name": "stdout",
          "text": [
            "Downloading data from https://storage.googleapis.com/tensorflow/keras-applications/resnet/resnet50_weights_tf_dim_ordering_tf_kernels_notop.h5\n",
            "94765736/94765736 [==============================] - 5s 0us/step\n",
            "Model: \"sequential\"\n",
            "_________________________________________________________________\n",
            " Layer (type)                Output Shape              Param #   \n",
            "=================================================================\n",
            " resnet50 (Functional)       (None, 2048)              23587712  \n",
            "                                                                 \n",
            " dense (Dense)               (None, 512)               1049088   \n",
            "                                                                 \n",
            " dense_1 (Dense)             (None, 10)                5130      \n",
            "                                                                 \n",
            "=================================================================\n",
            "Total params: 24641930 (94.00 MB)\n",
            "Trainable params: 1054218 (4.02 MB)\n",
            "Non-trainable params: 23587712 (89.98 MB)\n",
            "_________________________________________________________________\n"
          ]
        }
      ]
    },
    {
      "cell_type": "code",
      "source": [
        "model.compile(optimizer = \"Adam\", loss = 'categorical_crossentropy', metrics=['accuracy'])"
      ],
      "metadata": {
        "id": "OerVZNHFaNau"
      },
      "execution_count": null,
      "outputs": []
    },
    {
      "cell_type": "code",
      "source": [
        "model.fit(train_iterator, epochs = 10, validation_data = val_iterator)"
      ],
      "metadata": {
        "colab": {
          "base_uri": "https://localhost:8080/"
        },
        "id": "Nj283Pw4eHrR",
        "outputId": "19099110-707b-4223-9abe-75b20cb90276"
      },
      "execution_count": null,
      "outputs": [
        {
          "output_type": "stream",
          "name": "stdout",
          "text": [
            "Epoch 1/10\n",
            "118/118 [==============================] - 50s 344ms/step - loss: 1.4374 - accuracy: 0.5440 - val_loss: 0.7886 - val_accuracy: 0.7750\n",
            "Epoch 2/10\n",
            "118/118 [==============================] - 45s 382ms/step - loss: 0.9255 - accuracy: 0.7145 - val_loss: 0.6384 - val_accuracy: 0.7976\n",
            "Epoch 3/10\n",
            "118/118 [==============================] - 39s 329ms/step - loss: 0.7684 - accuracy: 0.7601 - val_loss: 0.5369 - val_accuracy: 0.8320\n",
            "Epoch 4/10\n",
            "118/118 [==============================] - 38s 322ms/step - loss: 0.6869 - accuracy: 0.7838 - val_loss: 0.4963 - val_accuracy: 0.8440\n",
            "Epoch 5/10\n",
            "118/118 [==============================] - 37s 315ms/step - loss: 0.6291 - accuracy: 0.8019 - val_loss: 0.4711 - val_accuracy: 0.8479\n",
            "Epoch 6/10\n",
            "118/118 [==============================] - 39s 330ms/step - loss: 0.5912 - accuracy: 0.8142 - val_loss: 0.4359 - val_accuracy: 0.8623\n",
            "Epoch 7/10\n",
            "118/118 [==============================] - 38s 326ms/step - loss: 0.5601 - accuracy: 0.8218 - val_loss: 0.4202 - val_accuracy: 0.8658\n",
            "Epoch 8/10\n",
            "118/118 [==============================] - 37s 314ms/step - loss: 0.5357 - accuracy: 0.8310 - val_loss: 0.3997 - val_accuracy: 0.8721\n",
            "Epoch 9/10\n",
            "118/118 [==============================] - 37s 316ms/step - loss: 0.5132 - accuracy: 0.8369 - val_loss: 0.3757 - val_accuracy: 0.8801\n",
            "Epoch 10/10\n",
            "118/118 [==============================] - 39s 327ms/step - loss: 0.4947 - accuracy: 0.8435 - val_loss: 0.3935 - val_accuracy: 0.8699\n"
          ]
        },
        {
          "output_type": "execute_result",
          "data": {
            "text/plain": [
              "<keras.src.callbacks.History at 0x7dc09dff5810>"
            ]
          },
          "metadata": {},
          "execution_count": 13
        }
      ]
    },
    {
      "cell_type": "code",
      "source": [
        "def get_predictions(model, data):\n",
        "    return np.array([np.argmax(prediction) for prediction in model.predict(data)])"
      ],
      "metadata": {
        "id": "VLiGtKRuOupc"
      },
      "execution_count": null,
      "outputs": []
    },
    {
      "cell_type": "code",
      "source": [
        "predicted = get_predictions(model, X_test)\n",
        "pd.Series(predicted).value_counts()"
      ],
      "metadata": {
        "colab": {
          "base_uri": "https://localhost:8080/"
        },
        "id": "s9H-Ugt4S32w",
        "outputId": "d9f1b245-eebf-402b-c1bb-e2b6799f731a"
      },
      "execution_count": null,
      "outputs": [
        {
          "output_type": "stream",
          "name": "stdout",
          "text": [
            "313/313 [==============================] - 3s 11ms/step\n"
          ]
        },
        {
          "output_type": "execute_result",
          "data": {
            "text/plain": [
              "8    3234\n",
              "2    2926\n",
              "1    1750\n",
              "5    1187\n",
              "4     899\n",
              "7       4\n",
              "dtype: int64"
            ]
          },
          "metadata": {},
          "execution_count": 18
        }
      ]
    },
    {
      "cell_type": "code",
      "source": [
        "pd.Series([np.argmax(i) for i in y_test]).value_counts()"
      ],
      "metadata": {
        "colab": {
          "base_uri": "https://localhost:8080/"
        },
        "id": "WnhdJb5RTBsH",
        "outputId": "371d4e56-260f-46e9-d77b-4b902ccf0032"
      },
      "execution_count": null,
      "outputs": [
        {
          "output_type": "execute_result",
          "data": {
            "text/plain": [
              "1    1135\n",
              "2    1032\n",
              "7    1028\n",
              "3    1010\n",
              "9    1009\n",
              "4     982\n",
              "0     980\n",
              "8     974\n",
              "6     958\n",
              "5     892\n",
              "dtype: int64"
            ]
          },
          "metadata": {},
          "execution_count": 19
        }
      ]
    },
    {
      "cell_type": "code",
      "source": [
        "import matplotlib.pyplot as plt\n",
        "show_images = 10\n",
        "\n",
        "for i in range(show_images):\n",
        "    plt.subplot(show_images // 5 + 1, 5, i + 1)\n",
        "    plt.title(str(predicted[i]))\n",
        "    plt.imshow(X_test[i, :, :, 1].reshape(28, 28))"
      ],
      "metadata": {
        "colab": {
          "base_uri": "https://localhost:8080/",
          "height": 299
        },
        "id": "WaBJD1p9TF4m",
        "outputId": "52792f14-b7ef-42e3-bbef-8cabfdaaf4d2"
      },
      "execution_count": null,
      "outputs": [
        {
          "output_type": "display_data",
          "data": {
            "text/plain": [
              "<Figure size 640x480 with 10 Axes>"
            ],
            "image/png": "[encoded data removed]"
          },
          "metadata": {}
        }
      ]
    },
    {
      "cell_type": "code",
      "source": [],
      "metadata": {
        "id": "TUkyCRDNTJEx"
      },
      "execution_count": null,
      "outputs": []
    },
    {
      "cell_type": "code",
      "source": [
        "!pwd"
      ],
      "metadata": {
        "colab": {
          "base_uri": "https://localhost:8080/"
        },
        "id": "RCzPCs50ePxw",
        "outputId": "f36c7dcd-93e7-4254-d989-2c121eb935cf"
      },
      "execution_count": null,
      "outputs": [
        {
          "output_type": "stream",
          "name": "stdout",
          "text": [
            "/content\n"
          ]
        }
      ]
    },
    {
      "cell_type": "code",
      "source": [
        "!ssh-keyscan github.com >> /root/.ssh/known_hosts"
      ],
      "metadata": {
        "colab": {
          "base_uri": "https://localhost:8080/"
        },
        "id": "uj7FF7-q6sqe",
        "outputId": "05cd2a18-471d-458e-8fc4-4801edf25f3e"
      },
      "execution_count": null,
      "outputs": [
        {
          "output_type": "stream",
          "name": "stdout",
          "text": [
            "/bin/bash: line 1: /root/.ssh/known_hosts: No such file or directory\n"
          ]
        }
      ]
    },
    {
      "cell_type": "code",
      "source": [
        "!ssh -T git@github.com"
      ],
      "metadata": {
        "id": "bxfrm8PH7G4L",
        "colab": {
          "base_uri": "https://localhost:8080/"
        },
        "outputId": "d254d924-c213-4f3c-bd25-49c4b29a8e37"
      },
      "execution_count": null,
      "outputs": [
        {
          "output_type": "stream",
          "name": "stdout",
          "text": [
            "Host key verification failed.\r\n"
          ]
        }
      ]
    },
    {
      "cell_type": "code",
      "source": [
        "!pwd"
      ],
      "metadata": {
        "colab": {
          "base_uri": "https://localhost:8080/"
        },
        "id": "wxhEge8yn-BM",
        "outputId": "b7143ed6-30b2-46c3-aa1e-51ed3c33458c"
      },
      "execution_count": null,
      "outputs": [
        {
          "output_type": "stream",
          "name": "stdout",
          "text": [
            "/content\n"
          ]
        }
      ]
    },
    {
      "cell_type": "code",
      "source": [
        "!git clone git@github.com:AnisH1427/Multilingual-OCR-FYP.git"
      ],
      "metadata": {
        "colab": {
          "base_uri": "https://localhost:8080/"
        },
        "id": "fpVhbU73oQck",
        "outputId": "1d4c9276-fb0d-4e40-c7fd-e0c1c617f40d"
      },
      "execution_count": null,
      "outputs": [
        {
          "output_type": "stream",
          "name": "stdout",
          "text": [
            "Cloning into 'Multilingual-OCR-FYP'...\n",
            "Host key verification failed.\n",
            "fatal: Could not read from remote repository.\n",
            "\n",
            "Please make sure you have the correct access rights\n",
            "and the repository exists.\n"
          ]
        }
      ]
    },
    {
      "cell_type": "code",
      "source": [
        "cd  Multilingual-OCR-FYP"
      ],
      "metadata": {
        "colab": {
          "base_uri": "https://localhost:8080/"
        },
        "id": "L5LEFrkroopC",
        "outputId": "dc196ad7-3d0c-4883-bc03-704c0e0b16ea"
      },
      "execution_count": null,
      "outputs": [
        {
          "output_type": "stream",
          "name": "stdout",
          "text": [
            "[Errno 2] No such file or directory: 'Multilingual-OCR-FYP'\n",
            "/content\n"
          ]
        }
      ]
    },
    {
      "cell_type": "code",
      "source": [
        "!git status"
      ],
      "metadata": {
        "colab": {
          "base_uri": "https://localhost:8080/"
        },
        "id": "5RNwJyOZo1o-",
        "outputId": "d78120a5-f52b-436d-e640-b717ab245958"
      },
      "execution_count": null,
      "outputs": [
        {
          "output_type": "stream",
          "name": "stdout",
          "text": [
            "fatal: not a git repository (or any of the parent directories): .git\n"
          ]
        }
      ]
    },
    {
      "cell_type": "code",
      "source": [],
      "metadata": {
        "id": "RqOEgcNqpN9E"
      },
      "execution_count": null,
      "outputs": []
    }
  ]
}